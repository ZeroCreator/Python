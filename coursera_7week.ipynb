{
 "cells": [
  {
   "cell_type": "markdown",
   "metadata": {},
   "source": [
    "# coorsera 7 week"
   ]
  },
  {
   "cell_type": "markdown",
   "metadata": {},
   "source": [
    "## task 1. \n",
    "\n",
    "### Задача «Количество различных чисел»."
   ]
  },
  {
   "cell_type": "markdown",
   "metadata": {},
   "source": [
    "**Условие:**\n",
    "\n",
    "Дан список чисел. Определите, сколько в нем встречается различных чисел."
   ]
  },
  {
   "cell_type": "code",
   "execution_count": null,
   "metadata": {},
   "outputs": [],
   "source": [
    "n = set(input().split())\n",
    "print(len(n))"
   ]
  },
  {
   "cell_type": "code",
   "execution_count": null,
   "metadata": {},
   "outputs": [],
   "source": [
    "a = set(input())\n",
    "print(len(a)-1)"
   ]
  },
  {
   "cell_type": "markdown",
   "metadata": {},
   "source": [
    "## task 2.\n",
    "### Задача «Количество совпадающих чисел»."
   ]
  },
  {
   "cell_type": "markdown",
   "metadata": {},
   "source": [
    "**Условие:**\n",
    "\n",
    "Даны два списка чисел. Посчитайте, сколько чисел содержится одновременно как в первом \n",
    "списке, так и во втором."
   ]
  },
  {
   "cell_type": "code",
   "execution_count": null,
   "metadata": {},
   "outputs": [],
   "source": [
    "n = set(input().split())\n",
    "m = set(input().split())\n",
    "print(len(m & n))"
   ]
  },
  {
   "cell_type": "code",
   "execution_count": null,
   "metadata": {},
   "outputs": [],
   "source": [
    "a = set(input().split())\n",
    "b = set(input().split())\n",
    "count = 0\n",
    "for i in a:\n",
    "    for j in b:\n",
    "        if i == j:\n",
    "            count += 1\n",
    "print(count)"
   ]
  },
  {
   "cell_type": "markdown",
   "metadata": {},
   "source": [
    "## task 3 .\n",
    "### Задача «Пересечение множеств»."
   ]
  },
  {
   "cell_type": "markdown",
   "metadata": {},
   "source": [
    "**Условие:**\n",
    "\n",
    "Даны два списка чисел. Найдите все числа, которые входят как в первый, так и во второй \n",
    "список и выведите их в порядке возрастания.\n",
    "Примечание. И даже эту задачу на Питоне можно решить в одну строчку."
   ]
  },
  {
   "cell_type": "code",
   "execution_count": null,
   "metadata": {},
   "outputs": [],
   "source": [
    "n = set(input().split())\n",
    "m = set(input().split())\n",
    "print(' '.join(sorted(n & m)))"
   ]
  },
  {
   "cell_type": "code",
   "execution_count": null,
   "metadata": {},
   "outputs": [],
   "source": [
    "print(*sorted(set(input().split()) & set(input().split()), key=int))"
   ]
  },
  {
   "cell_type": "code",
   "execution_count": null,
   "metadata": {},
   "outputs": [],
   "source": [
    "a = list(set([int(j) for j in input().split()]) & set([int(j) for j in input().split()]))\n",
    "for elem in sorted(a):\n",
    "    print(elem, end=' ')"
   ]
  },
  {
   "cell_type": "code",
   "execution_count": null,
   "metadata": {},
   "outputs": [],
   "source": [
    "a = set([int(i) for i in input().split()])\n",
    "b = set([int(i) for i in input().split()])\n",
    "c = list(a&b)\n",
    "c.sort()\n",
    "print(' '.join([str(i) for i in c]))"
   ]
  },
  {
   "cell_type": "markdown",
   "metadata": {},
   "source": [
    "## task 4.\n",
    "### Задача «Встречалось ли число раньше»."
   ]
  },
  {
   "cell_type": "markdown",
   "metadata": {},
   "source": [
    "**Условие:**\n",
    "    \n",
    "Во входной строке записана последовательность чисел через пробел. \n",
    "Для каждого числа выведите слово YES (в отдельной строке), если это число ранее \n",
    "встречалось в последовательности или NO, если не встречалось."
   ]
  },
  {
   "cell_type": "code",
   "execution_count": null,
   "metadata": {},
   "outputs": [],
   "source": [
    "a = set()\n",
    "for i in input().split():\n",
    "    n = int(i)\n",
    "    if n in a:\n",
    "        print('YES')\n",
    "    else:\n",
    "        print('NO')\n",
    "    a.add(n)"
   ]
  },
  {
   "cell_type": "markdown",
   "metadata": {},
   "source": [
    "## task 5.\n",
    "### Задача «Кубики»."
   ]
  },
  {
   "cell_type": "markdown",
   "metadata": {},
   "source": [
    "**Условие:**\n",
    "\n",
    "Аня и Боря любят играть в разноцветные кубики, причем у каждого из них свой набор и в каждом наборе все кубики различны по цвету. \n",
    "Однажды дети заинтересовались, сколько существуют цветов таких, что кубики каждого цвета присутствуют в обоих наборах. \n",
    "Для этого они занумеровали все цвета случайными числами от 0 до 108. На этом их энтузиазм иссяк, поэтому вам предлагается помочь им в оставшейся части.\n",
    "В первой строке входных данных записаны числа N и M — число кубиков у Ани и Бори. \n",
    "В следующих N строках заданы номера цветов кубиков Ани. В последних M строках номера цветов Бори.\n",
    "Найдите три множества: номера цветов кубиков, которые есть в обоих наборах; \n",
    "номера цветов кубиков, которые есть только у Ани и номера цветов кубиков, которые есть только у Бори. \n",
    "Для каждого из множеств выведите сначала количество элементов в нем, а затем сами элементы, отсортированные по возрастанию."
   ]
  },
  {
   "cell_type": "code",
   "execution_count": null,
   "metadata": {},
   "outputs": [],
   "source": [
    "n, m = [int(i) for i in input().split()]\n",
    "a = set()\n",
    "b = set()\n",
    "for i in range(n):\n",
    "    a.add(int(input()))\n",
    "for i in range(m):\n",
    "    b.add(int(input()))\n",
    "print(len(a & b))\n",
    "print(*sorted(a & b))\n",
    "print(len(a - b))\n",
    "print(*sorted(list(a - b)))\n",
    "print(len(b - a))\n",
    "print(*sorted(list(b - a)))\n"
   ]
  },
  {
   "cell_type": "code",
   "execution_count": null,
   "metadata": {},
   "outputs": [],
   "source": [
    "n, m = [int(i) for i in input().split()]\n",
    "a = set()\n",
    "b = set()\n",
    "for i in range(n):\n",
    "    a.add(int(input()))\n",
    "for i in range(m):\n",
    "    b.add(int(input()))\n",
    "a_b = list(a & b)\n",
    "a_b.sort()\n",
    "only_a = list(a-b)\n",
    "only_a.sort()\n",
    "only_b = list(b-a)\n",
    "only_b.sort()\n",
    "print(len(a & b))\n",
    "print(' '.join([str(i) for i in (a_b)]))\n",
    "print(len(a - b))\n",
    "print(' '.join([str(i) for i in (only_a)]))\n",
    "print(len(b - a))\n",
    "print(' '.join([str(i) for i in (only_b)]))"
   ]
  },
  {
   "cell_type": "markdown",
   "metadata": {},
   "source": [
    "## task 6.\n",
    "### Задача «Количество слов в тексте»."
   ]
  },
  {
   "cell_type": "markdown",
   "metadata": {},
   "source": [
    "**Условие:**\n",
    "\n",
    "Дан текст: в первой строке записано число строк, далее идут сами строки. Определите, сколько различных слов содержится в этом тексте.\n",
    "Словом считается последовательность непробельных символов идущих подряд, слова разделены одним или большим числом пробелов или символами конца строки."
   ]
  },
  {
   "cell_type": "code",
   "execution_count": null,
   "metadata": {},
   "outputs": [],
   "source": [
    "a = int(input())\n",
    "count = set()\n",
    "for i in range(a):\n",
    "    for j in input().split():\n",
    "        count.add(j)\n",
    "print(len(count))"
   ]
  },
  {
   "cell_type": "code",
   "execution_count": null,
   "metadata": {},
   "outputs": [],
   "source": [
    "with open(\"text.txt\", \"r\", encoding=\"utf8\") as in_file:\n",
    "    print(len(set(map(str, in_file.read().split()))))"
   ]
  },
  {
   "cell_type": "code",
   "execution_count": null,
   "metadata": {},
   "outputs": [],
   "source": [
    "print(len(set(open(\"text.txt\", \"r\", encoding=\"utf8\").read().split())))"
   ]
  }
 ],
 "metadata": {
  "kernelspec": {
   "display_name": "Python 3",
   "language": "python",
   "name": "python3"
  },
  "language_info": {
   "codemirror_mode": {
    "name": "ipython",
    "version": 3
   },
   "file_extension": ".py",
   "mimetype": "text/x-python",
   "name": "python",
   "nbconvert_exporter": "python",
   "pygments_lexer": "ipython3",
   "version": "3.7.4"
  }
 },
 "nbformat": 4,
 "nbformat_minor": 2
}
